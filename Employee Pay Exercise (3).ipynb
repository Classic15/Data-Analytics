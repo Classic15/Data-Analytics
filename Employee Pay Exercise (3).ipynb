{
 "cells": [
  {
   "cell_type": "markdown",
   "metadata": {},
   "source": [
    "## Employee Pay Exercise"
   ]
  },
  {
   "cell_type": "code",
   "execution_count": 1,
   "metadata": {},
   "outputs": [],
   "source": [
    "Employees = ['Mary','John','Bob','Mel','Jen','Sue',\n",
    "            'Ken','Dave','Beth','Ray']"
   ]
  },
  {
   "cell_type": "code",
   "execution_count": 2,
   "metadata": {},
   "outputs": [
    {
     "name": "stdout",
     "output_type": "stream",
     "text": [
      "['Mary', 'John', 'Bob', 'Mel', 'Jen', 'Sue', 'Ken', 'Dave', 'Beth', 'Ray']\n"
     ]
    }
   ],
   "source": [
    "print (Employees)"
   ]
  },
  {
   "cell_type": "code",
   "execution_count": 3,
   "metadata": {},
   "outputs": [
    {
     "name": "stdout",
     "output_type": "stream",
     "text": [
      "Enter the id of the employee :001\n",
      "Enter the name of the employee:Mary\n",
      "Enter the pay rate of the employee: 15\n",
      "Enter hours worked by employee:40\n"
     ]
    },
    {
     "data": {
      "text/plain": [
       "600"
      ]
     },
     "execution_count": 3,
     "metadata": {},
     "output_type": "execute_result"
    }
   ],
   "source": [
    "#Get Employee's information\n",
    "\n",
    "id_e = input(\"Enter the id of the employee :\")\n",
    "name_e = input(\"Enter the name of the employee:\")\n",
    "pay_rate = int(input(\"Enter the pay rate of the employee: \"))\n",
    "work_hour = int(input(\"Enter hours worked by employee:\"))\n",
    "\n",
    "base_salary = pay_rate * 40\n",
    "\n",
    "base_salary"
   ]
  },
  {
   "cell_type": "code",
   "execution_count": 3,
   "metadata": {},
   "outputs": [
    {
     "name": "stdout",
     "output_type": "stream",
     "text": [
      "Enter the id of the employee :002\n",
      "Enter the name of the employee:John\n",
      "Enter the pay rate of the employee: 22\n",
      "Enter hours worked by employee:25\n"
     ]
    },
    {
     "data": {
      "text/plain": [
       "550"
      ]
     },
     "execution_count": 3,
     "metadata": {},
     "output_type": "execute_result"
    }
   ],
   "source": [
    "id_e = input(\"Enter the id of the employee :\")\n",
    "name_e = input(\"Enter the name of the employee:\")\n",
    "pay_rate = int(input(\"Enter the pay rate of the employee: \"))\n",
    "work_hour = int(input(\"Enter hours worked by employee:\"))\n",
    "\n",
    "base_salary = pay_rate * work_hour\n",
    "\n",
    "base_salary"
   ]
  },
  {
   "cell_type": "code",
   "execution_count": 4,
   "metadata": {},
   "outputs": [
    {
     "name": "stdout",
     "output_type": "stream",
     "text": [
      "Enter the id of the employee :003\n",
      "Enter the name of the employee:Bob\n",
      "Enter the pay rate of the employee: 35\n",
      "Enter hours worked by employee:4\n"
     ]
    },
    {
     "data": {
      "text/plain": [
       "140"
      ]
     },
     "execution_count": 4,
     "metadata": {},
     "output_type": "execute_result"
    }
   ],
   "source": [
    "id_e = input(\"Enter the id of the employee :\")\n",
    "name_e = input(\"Enter the name of the employee:\")\n",
    "pay_rate = int(input(\"Enter the pay rate of the employee: \"))\n",
    "work_hour = int(input(\"Enter hours worked by employee:\"))\n",
    "\n",
    "base_salary = pay_rate * work_hour\n",
    "\n",
    "base_salary"
   ]
  },
  {
   "cell_type": "code",
   "execution_count": 7,
   "metadata": {},
   "outputs": [
    {
     "name": "stdout",
     "output_type": "stream",
     "text": [
      " The salary of the person with id : 009    and name   Beth  is  1369\n"
     ]
    }
   ],
   "source": [
    "if work_hour > 40:\n",
    "    base_salary = pay_rate + (work_hour - 40) * 1.5\n",
    "    print(' The salary  the person with id :', id_e, ' ' , ' and name',' ', \n",
    "      name_e,' ' 'is ', base_salary)\n",
    "else:\n",
    "    Gro_salary = pay_rate * work_hour\n",
    "    print(' The salary of the person with id :', id_e, ' ' , ' and name',' ', \n",
    "      name_e,' ' 'is ', Gro_salary)\n",
    "    "
   ]
  },
  {
   "cell_type": "code",
   "execution_count": 1,
   "metadata": {},
   "outputs": [
    {
     "name": "stdout",
     "output_type": "stream",
     "text": [
      "Enter the id of the employee :004\n",
      "Enter the name of the employee:Jen\n",
      "Enter the pay rate of the employee: 17\n",
      "Enter hours worked by employee:33\n"
     ]
    },
    {
     "data": {
      "text/plain": [
       "561"
      ]
     },
     "execution_count": 1,
     "metadata": {},
     "output_type": "execute_result"
    }
   ],
   "source": [
    "id_e = input(\"Enter the id of the employee :\")\n",
    "name_e = input(\"Enter the name of the employee:\")\n",
    "pay_rate = int(input(\"Enter the pay rate of the employee: \"))\n",
    "work_hour = int(input(\"Enter hours worked by employee:\"))\n",
    "\n",
    "base_salary = pay_rate * work_hour\n",
    "\n",
    "base_salary"
   ]
  },
  {
   "cell_type": "code",
   "execution_count": 2,
   "metadata": {},
   "outputs": [
    {
     "name": "stdout",
     "output_type": "stream",
     "text": [
      "Enter the id of the employee :007\n",
      "Enter the name of the employee:Ken\n",
      "Enter the pay rate of the employee: 40\n",
      "Enter hours worked by employee:36\n"
     ]
    },
    {
     "data": {
      "text/plain": [
       "1440"
      ]
     },
     "execution_count": 2,
     "metadata": {},
     "output_type": "execute_result"
    }
   ],
   "source": [
    "id_e = input(\"Enter the id of the employee :\")\n",
    "name_e = input(\"Enter the name of the employee:\")\n",
    "pay_rate = int(input(\"Enter the pay rate of the employee: \"))\n",
    "work_hour = int(input(\"Enter hours worked by employee:\"))\n",
    "\n",
    "base_salary = pay_rate * work_hour\n",
    "\n",
    "base_salary"
   ]
  },
  {
   "cell_type": "code",
   "execution_count": 3,
   "metadata": {},
   "outputs": [
    {
     "name": "stdout",
     "output_type": "stream",
     "text": [
      "Enter the id of the employee :008\n",
      "Enter the name of the employee:Dave\n",
      "Enter the pay rate of the employee: 20\n",
      "Enter hours worked by employee:17\n"
     ]
    },
    {
     "data": {
      "text/plain": [
       "340"
      ]
     },
     "execution_count": 3,
     "metadata": {},
     "output_type": "execute_result"
    }
   ],
   "source": [
    "id_e = input(\"Enter the id of the employee :\")\n",
    "name_e = input(\"Enter the name of the employee:\")\n",
    "pay_rate = int(input(\"Enter the pay rate of the employee: \"))\n",
    "work_hour = int(input(\"Enter hours worked by employee:\"))\n",
    "\n",
    "base_salary = pay_rate * work_hour\n",
    "\n",
    "base_salary"
   ]
  },
  {
   "cell_type": "code",
   "execution_count": 4,
   "metadata": {},
   "outputs": [
    {
     "name": "stdout",
     "output_type": "stream",
     "text": [
      "Enter the id of the employee :009\n",
      "Enter the name of the employee:Beth\n",
      "Enter the pay rate of the employee: 37\n",
      "Enter hours worked by employee:37\n"
     ]
    },
    {
     "data": {
      "text/plain": [
       "1369"
      ]
     },
     "execution_count": 4,
     "metadata": {},
     "output_type": "execute_result"
    }
   ],
   "source": [
    "id_e = input(\"Enter the id of the employee :\")\n",
    "name_e = input(\"Enter the name of the employee:\")\n",
    "pay_rate = int(input(\"Enter the pay rate of the employee: \"))\n",
    "work_hour = int(input(\"Enter hours worked by employee:\"))\n",
    "\n",
    "base_salary = pay_rate * work_hour\n",
    "\n",
    "base_salary"
   ]
  },
  {
   "cell_type": "code",
   "execution_count": 1,
   "metadata": {},
   "outputs": [
    {
     "name": "stdout",
     "output_type": "stream",
     "text": [
      "Enter the id of the employee :004\n",
      "Enter the name of the employee:Mel\n",
      "Enter the pay rate of the employee: 43\n",
      "Enter hours worked by employee:62\n",
      " The salary  the person with id : 004    and name   Mel  is  3139.0\n"
     ]
    }
   ],
   "source": [
    "id_e = input(\"Enter the id of the employee :\")\n",
    "name_e = input(\"Enter the name of the employee:\")\n",
    "pay_rate = int(input(\"Enter the pay rate of the employee: \"))\n",
    "work_hour = int(input(\"Enter hours worked by employee:\"))\n",
    "\n",
    "base_salary = pay_rate * 40\n",
    "\n",
    "base_salary\n",
    "\n",
    "if work_hour > 40:\n",
    "    Gro_salary = base_salary + (work_hour - 40) * 1.5 * pay_rate\n",
    "    print(' The salary  the person with id :', id_e, ' ' , ' and name',' ', \n",
    "      name_e,' ' 'is ', Gro_salary)\n",
    "else:\n",
    "    Gro_salary = pay_rate * work_hour\n",
    "    print(' The salary of the person with id :', id_e, ' ' , ' and name',' ', \n",
    "      name_e,' ' 'is ', Gro_salary)"
   ]
  },
  {
   "cell_type": "code",
   "execution_count": 2,
   "metadata": {},
   "outputs": [
    {
     "name": "stdout",
     "output_type": "stream",
     "text": [
      "Enter the id of the employee :006\n",
      "Enter the name of the employee:Sue\n",
      "Enter the pay rate of the employee: 29\n",
      "Enter hours worked by employee:45\n",
      " The salary  the person with id : 006    and name   Sue  is  1377.5\n"
     ]
    }
   ],
   "source": [
    "id_e = input(\"Enter the id of the employee :\")\n",
    "name_e = input(\"Enter the name of the employee:\")\n",
    "pay_rate = int(input(\"Enter the pay rate of the employee: \"))\n",
    "work_hour = int(input(\"Enter hours worked by employee:\"))\n",
    "\n",
    "base_salary = pay_rate * 40\n",
    "\n",
    "base_salary\n",
    "\n",
    "if work_hour > 40:\n",
    "    Gro_salary = base_salary + (work_hour - 40) * 1.5 * pay_rate\n",
    "    print(' The salary  the person with id :', id_e, ' ' , ' and name',' ', \n",
    "      name_e,' ' 'is ', Gro_salary)\n",
    "else:\n",
    "    Gro_salary = pay_rate * work_hour\n",
    "    print(' The salary of the person with id :', id_e, ' ' , ' and name',' ', \n",
    "      name_e,' ' 'is ', Gro_salary)"
   ]
  },
  {
   "cell_type": "code",
   "execution_count": 5,
   "metadata": {},
   "outputs": [
    {
     "name": "stdout",
     "output_type": "stream",
     "text": [
      "Enter the id of the employee :010\n",
      "Enter the name of the employee:Ray\n",
      "Enter the pay rate of the employee: 16.50\n",
      "Enter hours worked by employee:80\n",
      " The salary  the person with id : 010    and name   Ray  is  1650.0\n"
     ]
    }
   ],
   "source": [
    "id_e = input(\"Enter the id of the employee :\")\n",
    "name_e = input(\"Enter the name of the employee:\")\n",
    "pay_rate = float(input(\"Enter the pay rate of the employee: \"))\n",
    "work_hour = int(input(\"Enter hours worked by employee:\"))\n",
    "\n",
    "base_salary = pay_rate * 40\n",
    "\n",
    "base_salary\n",
    "\n",
    "if work_hour > 40:\n",
    "    Gro_salary = base_salary + (work_hour - 40) * 1.5 * pay_rate\n",
    "    print(' The salary  the person with id :', id_e, ' ' , ' and name',' ', \n",
    "      name_e,' ' 'is ', Gro_salary)\n",
    "else:\n",
    "    Gro_salary = pay_rate * work_hour\n",
    "    print(' The salary of the person with id :', id_e, ' ' , ' and name',' ', \n",
    "      name_e,' ' 'is ', Gro_salary)"
   ]
  }
 ],
 "metadata": {
  "kernelspec": {
   "display_name": "Python 3",
   "language": "python",
   "name": "python3"
  },
  "language_info": {
   "codemirror_mode": {
    "name": "ipython",
    "version": 3
   },
   "file_extension": ".py",
   "mimetype": "text/x-python",
   "name": "python",
   "nbconvert_exporter": "python",
   "pygments_lexer": "ipython3",
   "version": "3.7.3"
  }
 },
 "nbformat": 4,
 "nbformat_minor": 2
}
